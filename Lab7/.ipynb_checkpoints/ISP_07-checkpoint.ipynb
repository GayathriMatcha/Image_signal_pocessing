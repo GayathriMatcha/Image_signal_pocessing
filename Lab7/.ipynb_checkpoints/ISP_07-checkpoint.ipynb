{
 "cells": [
  {
   "cell_type": "markdown",
   "metadata": {
    "id": "LbS3Dyz-yOql"
   },
   "source": [
    "##**DFT Properties**\n",
    "---"
   ]
  },
  {
   "cell_type": "markdown",
   "metadata": {
    "id": "8Tx2v-OL1Oax"
   },
   "source": [
    "**Import the libraries:**"
   ]
  },
  {
   "cell_type": "code",
   "execution_count": null,
   "metadata": {
    "id": "WP3-DuoryIqO"
   },
   "outputs": [],
   "source": [
    "!pip install opencv \n",
    "from numpy import *\n",
    "import sys\n",
    "import cv2\n",
    "import math\n",
    "import matplotlib.pyplot as plt\n",
    "from numpy.fft import fftshift, fft"
   ]
  },
  {
   "cell_type": "markdown",
   "metadata": {
    "id": "TzWzAJZl1TC7"
   },
   "source": [
    "**Read and display the images:**"
   ]
  },
  {
   "cell_type": "code",
   "execution_count": null,
   "metadata": {
    "colab": {
     "base_uri": "https://localhost:8080/",
     "height": 340
    },
    "id": "Bw64ZjOTzIJT",
    "outputId": "272366e4-d6d3-4f0e-f458-2f2e9f2934cb"
   },
   "outputs": [],
   "source": [
    "img1= cv2.imread(\"fourier.pgm\",0)\n",
    "width1, height1= img1.shape    \n",
    "print(width1, height1)\n",
    "\n",
    "img2= cv2.imread(\"fourier_transform.pgm\",0)\n",
    "width2,height2= img2.shape  \n",
    "print(width2, height2)\n",
    "\n",
    "img3= cv2.imread(\"peppers_small.pgm\",0)\n",
    "width3,height3= img3.shape  \n",
    "print(width3, height3)\n",
    "\n",
    "\n",
    "fig, (ax1, ax2, ax3) = plt.subplots(1, 3, figsize=(9,12), constrained_layout=True)\n",
    "ax1.imshow(img1,'gray')                #displaying gray scale image\n",
    "ax1.title.set_text(\"fourier Image\")     #setting title to the figure\n",
    "ax2.imshow(img2,'gray')       \n",
    "ax2.title.set_text(\"fourier_transform Image\")\n",
    "ax3.imshow(img3,'gray')       \n",
    "ax3.title.set_text(\"Peppers_small Image\")"
   ]
  },
  {
   "cell_type": "markdown",
   "metadata": {
    "id": "6dMqn_GpycJX"
   },
   "source": [
    "**Q1: Implement 2D DFT using row-column decomposition.**"
   ]
  },
  {
   "cell_type": "markdown",
   "metadata": {
    "id": "3SyT2E8Gjqsb"
   },
   "source": [
    "##**2D-DFT Function:**"
   ]
  },
  {
   "cell_type": "code",
   "execution_count": null,
   "metadata": {
    "id": "ksWckP0N1m9z"
   },
   "outputs": [],
   "source": [
    "def dft(img):\n",
    "\n",
    "  width, height=img.shape       # get the shape of the image\n",
    "  r_d= fft(img,axis=1)          # perform row transform\n",
    "  dft_img= fft(r_d,axis=0)      # perform column transform\n",
    "  dft_img= fftshift(dft_img)    # fftshift to center the resulting DFT\n",
    "  mag =abs(dft_img)             # get the magnitude and phase\n",
    "  phase =zeros((width, height))\n",
    "  phase[mag!=0] = dft_img[mag!=0]/mag[mag!=0]\n",
    "  mag=mag/(sqrt(width*height))  # normalize the magnitude to ensure the transform is unitary\n",
    "\n",
    "  return mag,phase"
   ]
  },
  {
   "cell_type": "markdown",
   "metadata": {
    "id": "oWAOIdocjz8P"
   },
   "source": [
    "##**2D-IDFT Function:**"
   ]
  },
  {
   "cell_type": "code",
   "execution_count": null,
   "metadata": {
    "id": "hR7aWGz11muY"
   },
   "outputs": [],
   "source": [
    "def idft(mag, phase, shift_first=True):\n",
    "    dft = mag*phase\n",
    "    m, n = dft.shape\n",
    "    if shift_first:\n",
    "        dft = fftshift(dft)\n",
    "    r_d= fft(dft, axis=1)        # perform 2D DFT on the DFT\n",
    "    idft_img= fft(r_d, axis=0)\n",
    "    if not shift_first:\n",
    "        idft_img= fftshift(idft_img)\n",
    "    mag=abs(idft_img)\n",
    "    mag=mag[::-1, ::-1]\n",
    "    mag=mag/(sqrt(m*n))          # normalize\n",
    "    return mag"
   ]
  },
  {
   "cell_type": "markdown",
   "metadata": {
    "id": "Yj5PFmafj76r"
   },
   "source": [
    "**Finding DFT of Img1 and Img2:**"
   ]
  },
  {
   "cell_type": "code",
   "execution_count": null,
   "metadata": {
    "colab": {
     "base_uri": "https://localhost:8080/"
    },
    "id": "ChH4VVer1mny",
    "outputId": "766c4bf9-a316-4dd0-a752-0ebf2c759e64"
   },
   "outputs": [],
   "source": [
    "dft_img1=dft(img1)\n",
    "dft_img2=dft(img2)\n",
    "#print(dft_img2[0].shape)"
   ]
  },
  {
   "cell_type": "code",
   "execution_count": null,
   "metadata": {
    "colab": {
     "base_uri": "https://localhost:8080/",
     "height": 851
    },
    "id": "XFWSHKk6w3JS",
    "outputId": "3dc614fe-f5a9-42bb-9b7a-98dd9404d455"
   },
   "outputs": [],
   "source": [
    "fig, ([ax1,ax2],[ax3,ax4]) = plt.subplots(2,2, figsize=(9,12), constrained_layout=True)\n",
    "ax1.imshow(img1,'gray')                \n",
    "ax1.title.set_text(\"fourier Image\")    \n",
    "ax2.imshow(img2,'gray')       \n",
    "ax2.title.set_text(\"fourier_transform Image\")\n",
    "ax3.imshow(log10(dft_img1[0]),'gray')                \n",
    "ax3.title.set_text(\"DFT of fourier Image\")    \n",
    "ax4.imshow(log10(dft_img2[0]),'gray')       \n",
    "ax4.title.set_text(\"DFT of fourier_transform Image\")"
   ]
  },
  {
   "cell_type": "markdown",
   "metadata": {
    "id": "AUYx_BXRkSGY"
   },
   "source": [
    "#**Q2: Phase Dominance of DFT**\n",
    "---"
   ]
  },
  {
   "cell_type": "markdown",
   "metadata": {
    "id": "LvW2FJx_Qidm"
   },
   "source": [
    "*   Consider the given two images $Img_{1}$ and $Img_{2}$.\n",
    "*   Calculate the DFTs as $F_{1}=\\left|F_{1}\\right| e^{j \\Phi_{1}}$ and $F_{2}=\\left|F_{2}\\right| e^{j \\Phi_{2}}$ respectively. \n",
    "*   Now swith the magnitudes and phases to get two new images $mix\\_img_{1}$ and $mix\\_img_{2}$ by taking their DFTs as $F_{3}=\\left|F_{1}\\right| e^{j \\Phi_{2}}$ and $F_{4}=\\left|F_{2}\\right| e^{j \\Phi_{1}}$ , respectively.\n",
    "\n",
    "\n"
   ]
  },
  {
   "cell_type": "code",
   "execution_count": null,
   "metadata": {
    "id": "twob_dvN1mqO"
   },
   "outputs": [],
   "source": [
    "mix_img1 = idft(dft_img1[0],dft_img2[1])\n",
    "mix_img2= idft(dft_img2[0],dft_img1[1])"
   ]
  },
  {
   "cell_type": "code",
   "execution_count": null,
   "metadata": {
    "colab": {
     "base_uri": "https://localhost:8080/",
     "height": 851
    },
    "id": "9DvTFp_t5L47",
    "outputId": "e4c17795-f763-42fb-b254-c8298cb8bfd5"
   },
   "outputs": [],
   "source": [
    "fig, ([ax1,ax2],[ax3,ax4]) = plt.subplots(2,2, figsize=(9,12), constrained_layout=True)\n",
    "ax1.imshow(img1,'gray')                \n",
    "ax1.title.set_text(\"fourier Image\")    \n",
    "ax2.imshow(img2,'gray')       \n",
    "ax2.title.set_text(\"fourier_transform Image\")\n",
    "ax3.imshow(mix_img1,'gray')                \n",
    "ax3.title.set_text(\"img1_mag+img2_phase\")    \n",
    "ax4.imshow(mix_img2,'gray')       \n",
    "ax4.title.set_text(\"img2_mag+img1_phase\")"
   ]
  },
  {
   "cell_type": "markdown",
   "metadata": {
    "id": "dvViB54lQOfT"
   },
   "source": [
    "* From the results, we can see that the images depend mostly on the phase component of the DFT compared to the magnitude component."
   ]
  },
  {
   "cell_type": "markdown",
   "metadata": {
    "id": "noICw_uOkjew"
   },
   "source": [
    "#**Q3: Rotation Property of DFT:**"
   ]
  },
  {
   "cell_type": "code",
   "execution_count": null,
   "metadata": {
    "id": "jQBhSpVO1mjL"
   },
   "outputs": [],
   "source": [
    "theta = 45\n",
    "theta_r=pi*theta/180             #converting from degrees to radians\n",
    "    \n",
    "img_padded= zeros((width3+2, height3+2)) \n",
    "img_padded[1:-1, 1:-1] = img3           \n",
    "img_r=zeros((width3, height3))\n",
    "\n",
    "for xt in range(width3): \n",
    "  for yt in range(height3):\n",
    "      xs = cos(theta_r)*(xt-width3/2) - sin(theta_r)*(yt-height3/2) + width3/2\n",
    "      ys = sin(theta_r)*(xt-width3/2) + cos(theta_r)*(yt-height3/2) + height3/2\n",
    "      x=xs+1\n",
    "      y=ys+1\n",
    "      xs1=math.floor(x)\n",
    "      ys1=math.floor(y)\n",
    "      a=x-xs1\n",
    "      b=y-ys1\n",
    "      if xs1>=0 and xs1<=width3 and ys1>=0 and ys1<=height3:\n",
    "        img_r[xt,yt]=(1-a)*(1-b)*img_padded[xs1,ys1]+(1-a)*b*img_padded[xs1,ys1+1]+a*(1-b)*img_padded[xs1+1,ys1]+a*b*img_padded[xs1+1,ys1+1]\n",
    "      else:\n",
    "        img_r[xt,yt]=0\n"
   ]
  },
  {
   "cell_type": "code",
   "execution_count": null,
   "metadata": {
    "colab": {
     "base_uri": "https://localhost:8080/",
     "height": 358
    },
    "id": "Bu-uU2g4tYrZ",
    "outputId": "c87fbe03-ca0e-4da8-e589-6246f5ec056e"
   },
   "outputs": [],
   "source": [
    "fig, (ax1, ax2) = plt.subplots(1, 2, figsize=(9,12), constrained_layout=True)\n",
    "ax1.imshow(img3,'gray')                #displaying gray scale image\n",
    "ax1.title.set_text(\"fourier Image\")     #setting title to the figure\n",
    "ax2.imshow(img_r,'gray')       \n",
    "ax2.title.set_text(\"Rotated Image\")"
   ]
  },
  {
   "cell_type": "code",
   "execution_count": null,
   "metadata": {
    "colab": {
     "base_uri": "https://localhost:8080/"
    },
    "id": "9wvq7-uvq9hi",
    "outputId": "a11ebcc1-239e-469d-c749-0caf3d2c17e5"
   },
   "outputs": [],
   "source": [
    "img3_dft= dft(img_r)"
   ]
  },
  {
   "cell_type": "markdown",
   "metadata": {
    "id": "OvLKgx3JTMsl"
   },
   "source": [
    "* Compute rotated (such that the image center is the origin) form of 2D DFT as\n",
    "$$\n",
    "F(k, l)=\\Sigma_{m} \\Sigma_{n} f(m, n) e^{-j 2 \\pi m^{T} R k}\n",
    "$$\n",
    "where\n",
    "$$\n",
    "\\begin{gathered}\n",
    "\\bar{m}=\\left[\\begin{array}{ll}\n",
    "m \\\\ n\n",
    "\\end{array}\\right] \\\\\n",
    "\\end{gathered}\n",
    "$$\n",
    "* Compute DFT in a way such that the image coordinates at the center are considered the origin.\n",
    "$$\n",
    "\\bar{k}=\\left[\\begin{array}{ll}\n",
    "\\frac{k-\\frac{M}{2}}{M} \\\\ \\frac{l-\\frac{N}{2}}{N}\n",
    "\\end{array}\\right]\n",
    "$$\n",
    "and\n",
    "$$\n",
    "R=\\left[\\begin{array}{cc}\n",
    "\\cos (\\theta) & -\\sin (\\theta) \\\\\n",
    "\\sin (\\theta) & \\cos (\\theta)\n",
    "\\end{array}\\right]\n",
    "$$\n",
    " "
   ]
  },
  {
   "cell_type": "code",
   "execution_count": null,
   "metadata": {
    "id": "2pOsG81L1mhG"
   },
   "outputs": [],
   "source": [
    "def rotated_DFT(image, theta):\n",
    "\n",
    "    theta=theta*pi/180\n",
    "    R =array([[cos(theta),-sin(theta)],[sin(theta),cos(theta)]])\n",
    "    \n",
    "    x, y = shape(image)\n",
    "    F = zeros((x, y), dtype=complex)\n",
    "    X, Y = meshgrid(arange(x), arange(y))        # use meshgrid for vectorized operations\n",
    "    x_c = x//2                                   # get the image center\n",
    "    y_c = y//2\n",
    "\n",
    "    # m_vec to calculate the sum mentioned in the RHS above in one go\n",
    "    m_vec =hstack((X.reshape(-1, 1)-x_c, Y.reshape(-1, 1)-y_c))\n",
    "    for i in range(x):\n",
    "        for j in range(y):\n",
    "\n",
    "            k_vec = array([(i-x_c)/x, (j-y_c)/y])\n",
    "            k_vec = (R@k_vec)                      # perform vectorized multiplication\n",
    "            vals = m_vec@k_vec\n",
    "            vals = (vals.reshape(y, x)).T          # reshape to get the shape of image\n",
    "            F[i, j] = sum(image*exp(-2j*pi*(vals)))\n",
    "\n",
    "    mag = abs(F)\n",
    "    phase = F/mag\n",
    "    mag=mag/sqrt(x*y)                              # Normalize the magnitude so that the transform is unitary\n",
    "    \n",
    "    return mag, phase"
   ]
  },
  {
   "cell_type": "code",
   "execution_count": null,
   "metadata": {
    "id": "ryFLo-pmq9Xq"
   },
   "outputs": [],
   "source": [
    "img3_rdft= rotated_DFT(img3, theta)\n",
    "rotated_im_peppers_using_dft = idft(img3_rdft[0],img3_rdft[1], shift_first=False)"
   ]
  },
  {
   "cell_type": "code",
   "execution_count": null,
   "metadata": {
    "colab": {
     "base_uri": "https://localhost:8080/",
     "height": 358
    },
    "id": "5g2pKPWEacme",
    "outputId": "238cd6cd-1d17-430a-8c62-406fdae68acd"
   },
   "outputs": [],
   "source": [
    "fig, (ax1, ax2) = plt.subplots(1, 2, figsize=(9,12), constrained_layout=True)\n",
    "ax1.imshow(img_r,'gray')                #displaying gray scale image\n",
    "ax1.title.set_text(\"Rotated Image\")     #setting title to the figure\n",
    "ax2.imshow(rotated_im_peppers_using_dft,'gray')       \n",
    "ax2.title.set_text(\"idft of rotated dft Image\")"
   ]
  },
  {
   "cell_type": "code",
   "execution_count": null,
   "metadata": {
    "colab": {
     "base_uri": "https://localhost:8080/",
     "height": 358
    },
    "id": "2YujDILUq9je",
    "outputId": "d7ea5f51-3c5e-4fc0-e713-ac8742c473fb"
   },
   "outputs": [],
   "source": [
    "#log10(img3_dft[0]\n",
    "fig, (ax1, ax2) = plt.subplots(1, 2, figsize=(9,12), constrained_layout=True)\n",
    "ax1.imshow(log10(img3_dft[0]),'gray')                #displaying gray scale image\n",
    "ax1.title.set_text(\"DFT of Image3\")     #setting title to the figure\n",
    "ax2.imshow(log10(img3_rdft[0]),'gray')       \n",
    "ax2.title.set_text(\"idft of rotated dft Image\")      "
   ]
  },
  {
   "cell_type": "code",
   "execution_count": null,
   "metadata": {
    "colab": {
     "base_uri": "https://localhost:8080/",
     "height": 358
    },
    "id": "ZW8XWxDwq9nk",
    "outputId": "f36680c6-d574-4d42-c8b6-9d506dcc389a"
   },
   "outputs": [],
   "source": [
    "fig, (ax1, ax2) = plt.subplots(1, 2, figsize=(9,12), constrained_layout=True)\n",
    "ax1.imshow(angle(img3_dft[1]),'gray')                #displaying gray scale image\n",
    "ax1.title.set_text(\"DFT of Image3\")     #setting title to the figure\n",
    "ax2.imshow(angle(img3_rdft[1]),'gray')       \n",
    "ax2.title.set_text(\"idft of rotated dft Image\")  "
   ]
  },
  {
   "cell_type": "markdown",
   "metadata": {
    "id": "EAl2jP0dfvik"
   },
   "source": [
    "##**Conclusion:**\n",
    "* On calculating the DFTs for two images, swapping their magnitudes and phases, and then taking their IDFT, the resulting images look much closer to the image whose phase component they contain compared to the magnitude component.\n",
    "* **Rotating an image in the spatial domain** or **Rotating the DFT and then taking its IDFT** results in almost identical looking images.we see almost similar results except some small deviations at higher frequencies but the phases look different.\n",
    "* The spatial domain rotation uses bilinear interpolation, resulting in a smoother image than that obtained from rotating the DFT and taking its IDFT.\n",
    "* The energy of all the images is mostly concentrated in a few pixels at the origin."
   ]
  }
 ],
 "metadata": {
  "colab": {
   "collapsed_sections": [],
   "name": "ISP_07.ipynb",
   "provenance": []
  },
  "kernelspec": {
   "display_name": "Python 3 (ipykernel)",
   "language": "python",
   "name": "python3"
  },
  "language_info": {
   "codemirror_mode": {
    "name": "ipython",
    "version": 3
   },
   "file_extension": ".py",
   "mimetype": "text/x-python",
   "name": "python",
   "nbconvert_exporter": "python",
   "pygments_lexer": "ipython3",
   "version": "3.9.7"
  }
 },
 "nbformat": 4,
 "nbformat_minor": 1
}
