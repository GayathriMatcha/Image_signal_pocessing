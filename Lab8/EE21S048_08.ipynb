{
  "nbformat": 4,
  "nbformat_minor": 0,
  "metadata": {
    "colab": {
      "name": "EE21S048_08.ipynb",
      "provenance": [],
      "collapsed_sections": []
    },
    "kernelspec": {
      "name": "python3",
      "display_name": "Python 3"
    },
    "language_info": {
      "name": "python"
    }
  },
  "cells": [
    {
      "cell_type": "markdown",
      "source": [
        "**<h1><center>Lab-08:Report </center></h1>**\n",
        "\n",
        "**<h1><center>EE5175: Image Signal Processing </center></h1>**\n",
        "\n",
        "\n",
        "<h4><center>Under the guidence of </center></h4>\n",
        "<h4><center>Prof. AN.Rajagopalan </center></h4>\n",
        "\n",
        "<center>By EE21S048</center>\n",
        "\n",
        "<h9>Date of submission: 26-03-2022<h9>\n",
        "\n",
        "---"
      ],
      "metadata": {
        "id": "03YFI6mfArn5"
      }
    },
    {
      "cell_type": "markdown",
      "source": [
        "#**2D-Transforms & SVD:**"
      ],
      "metadata": {
        "id": "_s9FQVxrnhzK"
      }
    },
    {
      "cell_type": "markdown",
      "source": [
        "**Import the libraries:**"
      ],
      "metadata": {
        "id": "8Tx2v-OL1Oax"
      }
    },
    {
      "cell_type": "code",
      "source": [
        "from numpy import *\n",
        "import sys\n",
        "import cv2\n",
        "import math\n",
        "import matplotlib.pyplot as plt\n",
        "from scipy.io import loadmat"
      ],
      "metadata": {
        "id": "4xL-rPWMvKK3"
      },
      "execution_count": 1,
      "outputs": []
    },
    {
      "cell_type": "markdown",
      "source": [
        "\n",
        "**1. Assume a Markov-1 process with covariance matrix $R$ of size $8 \\times 8$ and $\\rho=0.91$. Compute the Energy Packing Efficiency and De-correlation Efficiency of the Walsh-Haddamard Transform and Discrete Cosine Transform for the above process. What is your observation about the eigenvectors of $\\mathrm{R}$ in relation to the DCT basis?**"
      ],
      "metadata": {
        "id": "5mttZ6JcswX6"
      }
    },
    {
      "cell_type": "markdown",
      "source": [
        "**Read the matfile:**"
      ],
      "metadata": {
        "id": "4HFUPJ1fmj7w"
      }
    },
    {
      "cell_type": "code",
      "source": [
        "g = loadmat('imageFile.mat')['g']\n",
        "n = 8\n",
        "rho = 0.91"
      ],
      "metadata": {
        "id": "A0cpSsXlvWWV"
      },
      "execution_count": 2,
      "outputs": []
    },
    {
      "cell_type": "markdown",
      "source": [
        "##**Markov-1 Process:**\n",
        "\n",
        "* Generate the covariance for a Markov-1 process with a given parameter $\\rho$. The covariance matrix $R$ is given by\n",
        "$$\n",
        "R_{i, j}=\\rho^{|i-j|}\n",
        "$$\n"
      ],
      "metadata": {
        "id": "i7sYYAOt2IBQ"
      }
    },
    {
      "cell_type": "code",
      "source": [
        "x =arange(n)\n",
        "y =arange(n)\n",
        "X, Y =meshgrid(x, y)\n",
        "R=rho**(abs(X-Y))\n",
        "import numpy as np\n",
        "print(np.round(R,decimals = 3))"
      ],
      "metadata": {
        "id": "QO-KBbwmmxBo",
        "colab": {
          "base_uri": "https://localhost:8080/"
        },
        "outputId": "46bf08b7-4c46-4b05-f7b8-f19f87040772"
      },
      "execution_count": 3,
      "outputs": [
        {
          "output_type": "stream",
          "name": "stdout",
          "text": [
            "[[1.    0.91  0.828 0.754 0.686 0.624 0.568 0.517]\n",
            " [0.91  1.    0.91  0.828 0.754 0.686 0.624 0.568]\n",
            " [0.828 0.91  1.    0.91  0.828 0.754 0.686 0.624]\n",
            " [0.754 0.828 0.91  1.    0.91  0.828 0.754 0.686]\n",
            " [0.686 0.754 0.828 0.91  1.    0.91  0.828 0.754]\n",
            " [0.624 0.686 0.754 0.828 0.91  1.    0.91  0.828]\n",
            " [0.568 0.624 0.686 0.754 0.828 0.91  1.    0.91 ]\n",
            " [0.517 0.568 0.624 0.686 0.754 0.828 0.91  1.   ]]\n"
          ]
        }
      ]
    },
    {
      "cell_type": "markdown",
      "source": [
        "##**2D-DCT:**\n",
        "\n",
        "* Get the matrix to perform unitary 1D type 2 DCT on an array of length $N$. The unnormalized matrix $C$ has the form\n",
        "\n",
        "$$\n",
        "C(k, n) = 2cos\\left[\\frac{\\pi(2n+1)k}{2N}\\right], \\quad 0 \\leq k \\leq N-1, \\quad 0 \\leq n \\leq N-1\n",
        "$$\n",
        "\n",
        "* Now, we should normalize this so that the transform performed it unitary. The normalizing coefficients are\n",
        "\n",
        "$$\n",
        "\\frac{1}{\\sqrt{4N}}, \\quad k = 0\n",
        "$$\n",
        "\n",
        "$$\n",
        "\\frac{1}{\\sqrt{2N}}, \\quad k \\geq 1\n",
        "$$\n",
        "\n",
        "* Perform 2D DCT using 1D DCT matrices. Given an image $U$ of the shape $m \\times n$, its 2D DCT $V$ can be calculated as \n",
        "$$\n",
        "V = C_{m}UC_{n}\n",
        "$$ where $C_{i}$ is the 1D unitary DCT matrix of size $i \\times i$"
      ],
      "metadata": {
        "id": "uyulC2kjU2qD"
      }
    },
    {
      "cell_type": "code",
      "source": [
        "def DCT_mat(N):\n",
        "  x=arange(N)\n",
        "  n, k =meshgrid(x,x)\n",
        "  Coeff = sqrt(2/N)*(cos(pi*(2*n+1)*k/(2*N)))\n",
        "  Coeff[k == 0] = sqrt(1/N)\n",
        "  return Coeff"
      ],
      "metadata": {
        "id": "qratc2iayrCz"
      },
      "execution_count": 4,
      "outputs": []
    },
    {
      "cell_type": "code",
      "source": [
        "m, n =shape(R)\n",
        "A = DCT_mat(m)\n",
        "B = DCT_mat(n)\n",
        "R_DCT=A@R@(B.T)\n",
        "print(np.round(R_DCT,decimals =2))\n",
        "\n",
        "eval, evec =linalg.eig(R)\n",
        "print(np.round(eval,decimals =3))"
      ],
      "metadata": {
        "id": "-hnLRBRw0AMC",
        "colab": {
          "base_uri": "https://localhost:8080/"
        },
        "outputId": "5a5e8181-6754-4259-bfb1-9261f6626a84"
      },
      "execution_count": 5,
      "outputs": [
        {
          "output_type": "stream",
          "name": "stdout",
          "text": [
            "[[ 6.34  0.   -0.29  0.   -0.07 -0.   -0.02  0.  ]\n",
            " [ 0.    0.93  0.   -0.03  0.   -0.01  0.   -0.  ]\n",
            " [-0.29  0.    0.31  0.   -0.    0.   -0.   -0.  ]\n",
            " [ 0.   -0.03  0.    0.15  0.   -0.    0.   -0.  ]\n",
            " [-0.07 -0.   -0.    0.    0.09  0.   -0.   -0.  ]\n",
            " [-0.   -0.01  0.   -0.    0.    0.07  0.   -0.  ]\n",
            " [-0.02  0.   -0.    0.   -0.    0.    0.06 -0.  ]\n",
            " [ 0.   -0.   -0.   -0.   -0.   -0.   -0.    0.05]]\n",
            "[6.358 0.931 0.298 0.148 0.093 0.068 0.055 0.049]\n"
          ]
        }
      ]
    },
    {
      "cell_type": "markdown",
      "source": [
        "##**Haddamard Transform**\n",
        "* Haddamard transform matrices, $H_{n}$, are of the form $N \\times N$ where $N = 2^{n}, n \\in \\{1, 2, ... \\}$. All of these matrices can be generated from a core matrix $H_{1}$.\n",
        "\n",
        "$$H_{1} = \\frac{1}{\\sqrt{2}}\\begin{bmatrix} 1 & 1 \\\\ 1 & -1 \\end{bmatrix}$$\n",
        "\n",
        "* The higher order matrices can be generated from $H_{1}$ recursively as \n",
        "\n",
        "$$\n",
        "H_{n} = H_{n-1}\\otimes H_{1} = H_{1} \\otimes H_{n-1}, \\quad n \\geq 2\n",
        "$$\n",
        "\n",
        "* Perform 2D WHT using 1D WHT matrices. Given an image $U$ of the shape $m \\times n$, its 2D WHT $V$ can be calculated as \n",
        "$$\n",
        "V = H_{m}UH_{n}\n",
        "$$\n",
        "where $H_{i}$ is the 1D unitary H matrix of size $i \\times i$. It must be noted that $(m, n)$ must be powers of $2$ for the transform to be applied."
      ],
      "metadata": {
        "id": "-kKDcbtkV5ia"
      }
    },
    {
      "cell_type": "code",
      "source": [
        "def Haddamard_matrix(n):\n",
        "    H1 =array(([1, 1], [1, -1]))/sqrt(2)\n",
        "    H = H1.copy()\n",
        "    if n!= 1:\n",
        "      for i in range(1, n):\n",
        "        H = kron(H, H1)\n",
        "    return H"
      ],
      "metadata": {
        "id": "Li0XfBUh0QuH"
      },
      "execution_count": 6,
      "outputs": []
    },
    {
      "cell_type": "code",
      "source": [
        "x, y =shape(R)\n",
        "n_x = int(ceil(log2(x)))\n",
        "n_y = int(ceil(log2(y)))\n",
        "\n",
        "H_x = Haddamard_matrix(n_x)\n",
        "H_y = Haddamard_matrix(n_y)\n",
        "R_WHT= H_x@R@(H_y.T)\n",
        "\n",
        "print(np.round(R_WHT,decimals =2))"
      ],
      "metadata": {
        "id": "aGHwACju0h9O",
        "colab": {
          "base_uri": "https://localhost:8080/"
        },
        "outputId": "63758c7b-a4fb-4ffc-9994-e498fb800138"
      },
      "execution_count": 7,
      "outputs": [
        {
          "output_type": "stream",
          "name": "stdout",
          "text": [
            "[[ 6.34  0.   -0.   -0.07 -0.   -0.13 -0.26  0.  ]\n",
            " [ 0.    0.08  0.07  0.    0.13  0.    0.    0.  ]\n",
            " [-0.    0.07  0.23  0.    0.26 -0.    0.    0.  ]\n",
            " [-0.07  0.    0.    0.09 -0.   -0.   -0.   -0.  ]\n",
            " [-0.    0.13  0.26  0.    0.8   0.    0.   -0.09]\n",
            " [-0.13 -0.    0.   -0.   -0.    0.09  0.09  0.  ]\n",
            " [-0.26 -0.    0.   -0.   -0.    0.09  0.27  0.  ]\n",
            " [-0.    0.    0.   -0.   -0.09  0.    0.    0.09]]\n"
          ]
        }
      ]
    },
    {
      "cell_type": "markdown",
      "source": [
        "##**Energy Packing Efficiency:**\n",
        "* The energy packing effiency of a covariance matrix $R$ depends on the number of coeffieints we are using and what fraction of the energy can we pack in that. If we are using $m$ coefficients and there are total $N$ coefficients, the energy packing efficiency at $m$, $EPE_{m}$, is given by\n",
        "\n",
        "$$\n",
        "EPE_{m} = \\frac{\\Sigma_{i=1}^{m}R_{i, i}}{\\Sigma_{i=1}^{N}R_{i, i}}\n",
        "$$\n",
        "\n",
        "* Clearly the energy packing efficiency will be high even with low values of $m$ if the first few coefficients contain a bulk of the energy. It is to be noted than an inherent assumption is the coefficients are in the decreasing order, i.e., \n",
        "\n",
        "$$\n",
        "R(1, 1) \\geq R(2, 2) \\dots \\geq R(N, N)\n",
        "$$"
      ],
      "metadata": {
        "id": "B-rPnUl9W4wF"
      }
    },
    {
      "cell_type": "code",
      "source": [
        "def EPE_vals(R):\n",
        "    diag_vals =abs(diag(R))\n",
        "    total_energy =sum(diag_vals)\n",
        "    energy_packed =cumsum(diag_vals)\n",
        "    return energy_packed/total_energy\n",
        "\n",
        "epe_R_DCT = EPE_vals(R_DCT)\n",
        "epe_R_WHT = EPE_vals(R_WHT)\n",
        "\n",
        "print(np.round(epe_R_DCT,decimals =3))\n",
        "print(np.round(epe_R_WHT,decimals =3))"
      ],
      "metadata": {
        "id": "4WFoapJW1q4Z",
        "colab": {
          "base_uri": "https://localhost:8080/"
        },
        "outputId": "7a423b05-be56-4a14-e421-38cf12562d32"
      },
      "execution_count": 8,
      "outputs": [
        {
          "output_type": "stream",
          "name": "stdout",
          "text": [
            "[0.793 0.909 0.948 0.967 0.979 0.987 0.994 1.   ]\n",
            "[0.793 0.803 0.831 0.843 0.942 0.954 0.988 1.   ]\n"
          ]
        }
      ]
    },
    {
      "cell_type": "code",
      "source": [
        "plt.figure(figsize=(6,6))\n",
        "x=arange(n)\n",
        "y=arange(n)\n",
        "plt.plot(x, epe_R_DCT, 'r--')\n",
        "plt.plot(y, epe_R_WHT, 'b--')\n",
        "plt.xlabel(\"Number of Coefficients (m)\")\n",
        "plt.ylabel(\"EPE\")\n",
        "plt.title(\"Energy Packing Efficiency\")\n",
        "plt.legend([\"R_DCT\", \"R_WHT\"])\n",
        "plt.grid(True)\n",
        "plt.show()"
      ],
      "metadata": {
        "colab": {
          "base_uri": "https://localhost:8080/",
          "height": 404
        },
        "id": "AYad2RYArYrN",
        "outputId": "11f061dd-df9a-4998-9bf8-1e553e347d67"
      },
      "execution_count": 9,
      "outputs": [
        {
          "output_type": "display_data",
          "data": {
            "text/plain": [
              "<Figure size 432x432 with 1 Axes>"
            ],
            "image/png": "[encoded data removed]"
          },
          "metadata": {
            "needs_background": "light"
          }
        }
      ]
    },
    {
      "cell_type": "markdown",
      "source": [
        "* We can clearly see that DCT is packing more energy in the initial few coefficients."
      ],
      "metadata": {
        "id": "o-hMkBMqffIk"
      }
    },
    {
      "cell_type": "markdown",
      "source": [
        "##**Decorrelation Efficiency**\n",
        "* The decorrelation efficiency measures how well the transformed data $R'$ is decorrelated compared to the original data $R$. It is defined as\n",
        "\n",
        "$$\n",
        "\\eta = 1 - \\frac{\\alpha}{\\beta}\n",
        "$$\n",
        "\n",
        "$$\n",
        "\\alpha = \\Sigma_{i, j = 1, i \\neq j}^{N}|R'_{i, j}|\n",
        "$$\n",
        "\n",
        "$$\n",
        "\\beta = \\Sigma_{i, j = 1, i \\neq j}^{N}|R_{i, j}|\n",
        "$$\n",
        "\n",
        "* Clearly, for a given $R$, $\\eta$ will be high when the off-diagonal elements in $R'$ are close to zero."
      ],
      "metadata": {
        "id": "sWB42l4pXMUE"
      }
    },
    {
      "cell_type": "code",
      "source": [
        "def decorrelation_efficiency(R, R_prime):\n",
        "    n =shape(R)[0]\n",
        "    non_diagonal_vals = 1-eye(n)\n",
        "    R_ =abs(non_diagonal_vals*R)\n",
        "    R_prime_ =abs(non_diagonal_vals*R_prime)\n",
        "    alpha =sum(R_prime_)\n",
        "    beta =sum(R_)\n",
        "    eta = 1-(alpha/beta)\n",
        "    return eta\n",
        "\n",
        "# compute the decorrelation efficiencies\n",
        "eta_R_DCT = decorrelation_efficiency(R, R_DCT)\n",
        "eta_R_WHT = decorrelation_efficiency(R, R_WHT)"
      ],
      "metadata": {
        "id": "XAkfbASU2Svf"
      },
      "execution_count": 10,
      "outputs": []
    },
    {
      "cell_type": "code",
      "source": [
        "print(f\"Decorrelation Efficiency of R for DCT : {eta_R_DCT}\")\n",
        "print(f\"Decorrelation Efficiency of R for WHT : {eta_R_WHT}\")"
      ],
      "metadata": {
        "id": "5z59WT1bs3kE",
        "outputId": "4c71a52d-9875-4bde-aae4-06ea6db67c56",
        "colab": {
          "base_uri": "https://localhost:8080/"
        }
      },
      "execution_count": 11,
      "outputs": [
        {
          "output_type": "stream",
          "name": "stdout",
          "text": [
            "Decorrelation Efficiency of R for DCT : 0.9804711989227338\n",
            "Decorrelation Efficiency of R for WHT : 0.9485667904674058\n"
          ]
        }
      ]
    },
    {
      "cell_type": "markdown",
      "source": [
        "* We can clearly see that DCT is doing a better job at decorrelating $R$.\n",
        "---"
      ],
      "metadata": {
        "id": "53aknBR2fuUt"
      }
    },
    {
      "cell_type": "markdown",
      "source": [
        "2. Find $\\beta^{2} R^{-1}$, where $\\beta^{2}=\\frac{1-\\rho^{2}}{1+\\rho^{2}}$. Does $\\beta^{2} R^{-1}$ have a tridiagonal structure?. Is it close to the tridiagonal matrix $Q$ given by,\n",
        "\n",
        "$$\n",
        "\\mathbf{Q}=\\left[\\begin{array}{cccccccc}\n",
        "1-\\alpha & -\\alpha & 0 & 0 & 0 & 0 & 0 & 0 \\\\\n",
        "-\\alpha & 1 & -\\alpha & 0 & 0 & 0 & 0 & 0 \\\\\n",
        "0 & -\\alpha & 1 & -\\alpha & 0 & 0 & 0 & 0 \\\\\n",
        "0 & 0 & -\\alpha & 1 & -\\alpha & 0 & 0 & 0 \\\\\n",
        "0 & 0 & 0 & -\\alpha & 1 & -\\alpha & 0 & 0 \\\\\n",
        "0 & 0 & 0 & 0 & -\\alpha & 1 & -\\alpha & 0 \\\\\n",
        "0 & 0 & 0 & 0 & 0 & -\\alpha & 1 & -\\alpha \\\\\n",
        "0 & 0 & 0 & 0 & 0 & 0 & -\\alpha & 1-\\alpha\n",
        "\\end{array}\\right]\n",
        "$$\n",
        "\n",
        "where $\\alpha=\\frac{\\rho}{1+\\rho^{2}}$\n",
        "\n",
        "Try diagonalizing $\\beta^{2} R^{-1}$ and $\\mathrm{Q}$ using the DCT matrix. What is your observation.?"
      ],
      "metadata": {
        "id": "0nGzMHSltrN3"
      }
    },
    {
      "cell_type": "markdown",
      "source": [
        "**Inverse of R**\n",
        "* If $R$ is the covariance matrix of a Markov-1 process with parameter $\\rho$, its inverse, $R^{-1}$ satisfies\n",
        "$$\n",
        "\\beta^{2}R^{-1} \\approx Q_{\\alpha}\n",
        "$$\n",
        "where,\n",
        "$Q_{\\alpha}$ is the tridiagonal matrix with parameter $\\alpha$,\n",
        "$$\n",
        "\\beta^{2} = \\frac{1-\\rho^{2}}{1+\\rho^{2}}\n",
        "$$\n",
        "and, \n",
        "$$\n",
        "\\alpha = \\frac{\\rho}{1+\\rho^{2}}\n",
        "$$"
      ],
      "metadata": {
        "id": "d7tuoePMbmin"
      }
    },
    {
      "cell_type": "code",
      "source": [
        "alpha=rho/(1+rho**2)\n",
        "beta=sqrt((1-rho**2)/(1+rho**2))\n",
        "print(alpha,beta)"
      ],
      "metadata": {
        "colab": {
          "base_uri": "https://localhost:8080/"
        },
        "id": "FCnuO30goLWd",
        "outputId": "c1ac6fa8-acca-46d0-d319-2d92f8c190c2"
      },
      "execution_count": 12,
      "outputs": [
        {
          "output_type": "stream",
          "name": "stdout",
          "text": [
            "0.4977845850883431 0.3066464660471657\n"
          ]
        }
      ]
    },
    {
      "cell_type": "code",
      "source": [
        "# get the scaled inverse of R\n",
        "beta_sqr_R_inv = (beta**2)*(linalg.inv(R))\n",
        "print(np.round(beta_sqr_R_inv,decimals =3))"
      ],
      "metadata": {
        "id": "zcAN16l2PEiq",
        "colab": {
          "base_uri": "https://localhost:8080/"
        },
        "outputId": "b0c33d99-74ee-4d06-8603-16c753dac166"
      },
      "execution_count": 13,
      "outputs": [
        {
          "output_type": "stream",
          "name": "stdout",
          "text": [
            "[[ 0.547 -0.498 -0.     0.    -0.    -0.     0.    -0.   ]\n",
            " [-0.498  1.    -0.498  0.    -0.     0.    -0.     0.   ]\n",
            " [-0.    -0.498  1.    -0.498  0.    -0.     0.    -0.   ]\n",
            " [-0.    -0.    -0.498  1.    -0.498  0.    -0.     0.   ]\n",
            " [-0.    -0.     0.    -0.498  1.    -0.498  0.    -0.   ]\n",
            " [-0.     0.    -0.     0.    -0.498  1.    -0.498  0.   ]\n",
            " [ 0.    -0.     0.     0.    -0.    -0.498  1.    -0.498]\n",
            " [-0.     0.     0.    -0.     0.    -0.    -0.498  0.547]]\n"
          ]
        }
      ]
    },
    {
      "cell_type": "markdown",
      "source": [
        "**Tridiagonal Matrix:**\n",
        "\n",
        "Generate a matrix with a tridiagonal structure for a given value of $\\alpha$ as given in the question statement. "
      ],
      "metadata": {
        "id": "l_lYEuc6Z--0"
      }
    },
    {
      "cell_type": "code",
      "source": [
        "# generate the tridiagonal matrix Q\n",
        "Q =zeros((n, n))\n",
        "x =arange(n)\n",
        "y =arange(n)\n",
        "X, Y =meshgrid(x, y)\n",
        "diff =abs(X-Y)\n",
        "Q[diff == 1] = -alpha\n",
        "Q[diff == 0] = 1\n",
        "Q[0, 0] = 1-alpha\n",
        "Q[-1, -1] = 1-alpha\n",
        "print(np.round(Q,decimals =3))"
      ],
      "metadata": {
        "id": "nodaiwODMTRq",
        "colab": {
          "base_uri": "https://localhost:8080/"
        },
        "outputId": "032cf029-62ec-4d97-e0ba-264012a4ca68"
      },
      "execution_count": 14,
      "outputs": [
        {
          "output_type": "stream",
          "name": "stdout",
          "text": [
            "[[ 0.502 -0.498  0.     0.     0.     0.     0.     0.   ]\n",
            " [-0.498  1.    -0.498  0.     0.     0.     0.     0.   ]\n",
            " [ 0.    -0.498  1.    -0.498  0.     0.     0.     0.   ]\n",
            " [ 0.     0.    -0.498  1.    -0.498  0.     0.     0.   ]\n",
            " [ 0.     0.     0.    -0.498  1.    -0.498  0.     0.   ]\n",
            " [ 0.     0.     0.     0.    -0.498  1.    -0.498  0.   ]\n",
            " [ 0.     0.     0.     0.     0.    -0.498  1.    -0.498]\n",
            " [ 0.     0.     0.     0.     0.     0.    -0.498  0.502]]\n"
          ]
        }
      ]
    },
    {
      "cell_type": "code",
      "source": [
        "# Diagonalize Q and scaled inverse of R using DCT\n",
        "m, n =shape(beta_sqr_R_inv)\n",
        "A = DCT_mat(m)\n",
        "B = DCT_mat(n)\n",
        "beta_sqr_R_inv_DCT=A@beta_sqr_R_inv@(B.T)\n",
        "print(np.round(beta_sqr_R_inv_DCT,decimals =3))\n",
        "\n",
        "m, n =shape(Q)\n",
        "A = DCT_mat(m)\n",
        "B = DCT_mat(n)\n",
        "Q_DCT=A@Q@(B.T)\n"
      ],
      "metadata": {
        "id": "GzLt1MS-PaHI",
        "colab": {
          "base_uri": "https://localhost:8080/"
        },
        "outputId": "f4d74316-0403-42b2-dea1-95bee72a4076"
      },
      "execution_count": 15,
      "outputs": [
        {
          "output_type": "stream",
          "name": "stdout",
          "text": [
            "[[ 0.016 -0.     0.015  0.     0.011  0.     0.006  0.   ]\n",
            " [-0.     0.102 -0.     0.018  0.     0.012  0.     0.004]\n",
            " [ 0.015  0.     0.315  0.     0.015  0.     0.008  0.   ]\n",
            " [-0.     0.018 -0.     0.634  0.     0.01   0.     0.004]\n",
            " [ 0.011  0.     0.015  0.     1.011  0.     0.006  0.   ]\n",
            " [-0.     0.012 -0.     0.01   0.     1.388  0.     0.002]\n",
            " [ 0.006  0.     0.008  0.     0.006 -0.     1.707  0.   ]\n",
            " [-0.     0.004  0.     0.004 -0.     0.002 -0.     1.921]]\n"
          ]
        }
      ]
    },
    {
      "cell_type": "code",
      "source": [
        "print(np.round(Q_DCT,decimals =3))"
      ],
      "metadata": {
        "colab": {
          "base_uri": "https://localhost:8080/"
        },
        "id": "L2gaNcM4BNyG",
        "outputId": "55aeeb06-0ae2-4198-8035-3cc05ddbd38b"
      },
      "execution_count": 16,
      "outputs": [
        {
          "output_type": "stream",
          "name": "stdout",
          "text": [
            "[[ 0.004  0.    -0.     0.     0.    -0.    -0.     0.   ]\n",
            " [-0.     0.08  -0.     0.    -0.    -0.     0.    -0.   ]\n",
            " [-0.    -0.     0.296  0.    -0.     0.    -0.     0.   ]\n",
            " [-0.     0.     0.     0.619  0.    -0.     0.    -0.   ]\n",
            " [ 0.    -0.    -0.     0.     1.     0.    -0.    -0.   ]\n",
            " [-0.    -0.     0.    -0.     0.     1.381  0.     0.   ]\n",
            " [-0.     0.    -0.     0.    -0.     0.     1.704 -0.   ]\n",
            " [ 0.    -0.     0.    -0.    -0.     0.    -0.     1.92 ]]\n"
          ]
        }
      ]
    },
    {
      "cell_type": "markdown",
      "source": [
        "---\n",
        "3. Compute SVD for the given $8 \\times 8$ image $\\mathbf{g}$ (provided in imageFile.mat and also given below) using the following steps:\n",
        "\n",
        "(a) Perform eigen-value decomposition of $\\mathbf{g}^{T} \\mathbf{g}$ and $\\mathbf{g g}^{T}$.\n",
        "\n",
        "(b) Find the singular value matrix $\\boldsymbol{\\Sigma}$.\n",
        "\n",
        "(c) Reconstruct the image using $\\boldsymbol{\\Sigma}$ and the eigen-vector matrices."
      ],
      "metadata": {
        "id": "S040GZcGtPZo"
      }
    },
    {
      "cell_type": "markdown",
      "metadata": {
        "id": "ZMP3WEvvkZA5"
      },
      "source": [
        "##**Singular Value Decomposition (SVD):**\n",
        "* Given a matrix $g$, its $SVD$ is given as\n",
        "$$\n",
        "g = A\\Sigma B^{T}\n",
        "$$\n",
        "$A$ is the matrix with the eigenvalues of $g g^{T}$ as its columns, $B$ is the matrix with the eigenvalues of $g^{T}g$, and $\\Sigma$ is the matrix of singular values. Given a matrix $g$ we perform SVD on it using the following steps \n",
        "- Perform eigen-decomposition of $gg^{T}$ and $g^{T}g$\n",
        "- Find the singular value matrix $\\Sigma$ using the eigenvalues of $gg^{T}$ and $g^{T}g$\n"
      ]
    },
    {
      "cell_type": "code",
      "source": [
        "g = g.astype(float64)\n",
        "print(np.round(g,decimals =3))"
      ],
      "metadata": {
        "colab": {
          "base_uri": "https://localhost:8080/"
        },
        "id": "He0lPWSrLemv",
        "outputId": "6cd0a62b-3f43-4b60-ddfc-80dbcee52c87"
      },
      "execution_count": 17,
      "outputs": [
        {
          "output_type": "stream",
          "name": "stdout",
          "text": [
            "[[207. 244. 107. 173.  70. 111. 180. 244.]\n",
            " [230. 246. 233. 193.  11.  97. 192.  86.]\n",
            " [ 32.  40. 202. 189.  24. 195.  70. 149.]\n",
            " [232. 247. 244. 100. 209. 202. 173.  57.]\n",
            " [161. 244. 167. 167. 177.  47. 167. 191.]\n",
            " [ 24. 123.   9.  43.  80. 124.  41.  65.]\n",
            " [ 71. 204. 216. 180. 242. 113.  30. 129.]\n",
            " [139.  36. 238.   8.   8. 164. 127. 178.]]\n"
          ]
        }
      ]
    },
    {
      "cell_type": "code",
      "source": [
        "m, n = shape(g)\n",
        "limiting_dim = min(m, n)\n",
        "\n",
        "eval1, evec1 =linalg.eig(g@(g.T))\n",
        "idx = eval1.argsort()[::-1]\n",
        "eval1 = eval1[idx]\n",
        "evec1 = evec1[:, idx]\n",
        "\n",
        "eval2, evec2 =linalg.eig((g.T)@g)\n",
        "idx = eval2.argsort()[::-1]\n",
        "eval2 = eval2[idx]\n",
        "evec2 = evec2[:, idx]\n",
        "\n",
        "sigma = zeros((m, n))\n",
        "\n",
        "for i in range(limiting_dim):\n",
        "  sigma[i, i] = (sqrt(eval1[i])+sqrt(eval2[i]))/2\n",
        "  v = evec2[:, i]\n",
        "  # This step is to ensure we have the correct pairing of the eigenvectors in the\n",
        "  # A and B matrices. This is necessary as v and -v are eigenvectors of the same matrix\n",
        "  # with the same eigenvalue\n",
        "  if sum((g@v-sigma[i, i]*evec1[:, i])**2) > sum((g@v+sigma[i, i]*evec1[:, i])**2):\n",
        "      evec2[:, i] = -v\n",
        "\n",
        "A, Sigma, B = evec1, sigma, evec2\n",
        "#print(A, Sigma, B)\n",
        "print(np.round(A,decimals =3))\n",
        "print(np.round(Sigma,decimals =3))\n",
        "print(np.round(B,decimals =3))"
      ],
      "metadata": {
        "id": "zdp5SpDmR8vJ",
        "colab": {
          "base_uri": "https://localhost:8080/"
        },
        "outputId": "878e53af-9843-4d12-eaa2-63b867656815"
      },
      "execution_count": 18,
      "outputs": [
        {
          "output_type": "stream",
          "name": "stdout",
          "text": [
            "[[ 0.408  0.045 -0.42  -0.472 -0.318 -0.179  0.069  0.543]\n",
            " [ 0.411 -0.093 -0.468  0.159  0.645 -0.084  0.329 -0.217]\n",
            " [ 0.271 -0.519  0.425 -0.351  0.325 -0.282 -0.41   0.013]\n",
            " [ 0.448  0.165  0.101  0.713 -0.125 -0.217 -0.36   0.249]\n",
            " [ 0.403  0.318 -0.115 -0.25  -0.113  0.442 -0.451 -0.499]\n",
            " [ 0.149  0.146  0.149 -0.078 -0.358 -0.655  0.285 -0.538]\n",
            " [ 0.36   0.342  0.614 -0.112  0.152  0.272  0.477  0.199]\n",
            " [ 0.277 -0.673  0.024  0.2   -0.445  0.369  0.278 -0.135]]\n",
            "[[1169.348    0.       0.       0.       0.       0.       0.       0.   ]\n",
            " [   0.     287.695    0.       0.       0.       0.       0.       0.   ]\n",
            " [   0.       0.     257.499    0.       0.       0.       0.       0.   ]\n",
            " [   0.       0.       0.     214.284    0.       0.       0.       0.   ]\n",
            " [   0.       0.       0.       0.     163.175    0.       0.       0.   ]\n",
            " [   0.       0.       0.       0.       0.     132.729    0.       0.   ]\n",
            " [   0.       0.       0.       0.       0.       0.      45.266    0.   ]\n",
            " [   0.       0.       0.       0.       0.       0.       0.      32.156]]\n",
            "[[ 0.363 -0.017 -0.488  0.331 -0.086  0.079  0.002  0.712]\n",
            " [ 0.446  0.519 -0.23  -0.     0.04  -0.248  0.546 -0.342]\n",
            " [ 0.441 -0.394  0.299  0.33   0.345  0.497  0.217 -0.197]\n",
            " [ 0.331  0.083  0.098 -0.511  0.661 -0.185 -0.29   0.239]\n",
            " [ 0.261  0.589  0.533  0.156 -0.299  0.219 -0.355  0.115]\n",
            " [ 0.301 -0.385  0.379  0.174 -0.245 -0.723  0.011  0.067]\n",
            " [ 0.315 -0.117 -0.427  0.1   -0.109 -0.026 -0.649 -0.511]\n",
            " [ 0.328 -0.245 -0.01  -0.675 -0.522  0.282  0.151  0.039]]\n"
          ]
        }
      ]
    },
    {
      "cell_type": "code",
      "source": [
        "g_hat=A@Sigma@(B.T)\n",
        "print(np.round(g_hat,decimals =3))"
      ],
      "metadata": {
        "colab": {
          "base_uri": "https://localhost:8080/"
        },
        "id": "GRFTNdfjLif7",
        "outputId": "cb63e2bb-8bdc-4e3e-e6ae-05fa5fcd7b62"
      },
      "execution_count": 19,
      "outputs": [
        {
          "output_type": "stream",
          "name": "stdout",
          "text": [
            "[[207. 244. 107. 173.  70. 111. 180. 244.]\n",
            " [230. 246. 233. 193.  11.  97. 192.  86.]\n",
            " [ 32.  40. 202. 189.  24. 195.  70. 149.]\n",
            " [232. 247. 244. 100. 209. 202. 173.  57.]\n",
            " [161. 244. 167. 167. 177.  47. 167. 191.]\n",
            " [ 24. 123.   9.  43.  80. 124.  41.  65.]\n",
            " [ 71. 204. 216. 180. 242. 113.  30. 129.]\n",
            " [139.  36. 238.   8.   8. 164. 127. 178.]]\n"
          ]
        }
      ]
    },
    {
      "cell_type": "markdown",
      "source": [
        "---\n",
        "4. Remove one singular value at a time from $\\boldsymbol{\\Sigma}$ and reconstruct the image $\\left(\\widehat{\\mathbf{g}_{k}}\\right)$. Compute $\\left\\|\\mathbf{g}-\\widehat{\\mathbf{g}_{k}}\\right\\|^{2}$ and compare it with the sum of the squares of the first $k$ singular values. \n",
        "\n",
        "$$\\mathbf{IMGg}=\\left[\\begin{array}{cccccccc}207 & 244 & 107 & 173 & 70 & 111 & 180 & 244 \\\\ 230 & 246 & 233 & 193 & 11 & 97 & 192 & 86 \\\\ 3 & 40 & 202 & 189 & 24 & 195 & 70 & 149 \\\\ 232 & 247 & 244 & 100 & 209 & 202 & 173 & 57 \\\\ 161 & 244 & 167 & 167 & 177 & 47 & 167 & 191 \\\\ 24 & 123 & 9 & 43 & 80 & 124 & 41 & 65 \\\\ 71 & 204 & 216 & 180 & 242 & 113 & 30 & 129 \\\\ 139 & 36 & 238 & 8 & 8 & 164 & 127 & 178\\end{array}\\right]$$"
      ],
      "metadata": {
        "id": "b7BJQ7YXtRlU"
      }
    },
    {
      "cell_type": "code",
      "source": [
        "# get the theoretical and experimental reconstruction errors\n",
        "\n",
        "reconstruction_errors = np.zeros(limiting_dim)\n",
        "reconstructed_matrix = g.copy()     # start with a copy of the original image\n",
        "\n",
        "for i in range(limiting_dim):  \n",
        "    reconstructed_matrix -= Sigma[i, i]*np.outer(A[:, i], B[:, i])   # remove the contribution of the ith singular value and its vectors    \n",
        "    reconstruction_errors[i] = np.sum((reconstructed_matrix - g)**2) # get the l2 norm\n",
        "err_exp=reconstruction_errors\n",
        "\n",
        "sigma = Sigma[Sigma > 0]\n",
        "err_the=np.cumsum(sigma**2)\n",
        "print(np.round(err_the,decimals=3))\n",
        "print(np.round(err_exp,decimals=3))"
      ],
      "metadata": {
        "id": "uo_tK9S4U652",
        "colab": {
          "base_uri": "https://localhost:8080/"
        },
        "outputId": "4467a7a9-fb6a-4a89-edc3-8aaac58487b0"
      },
      "execution_count": 20,
      "outputs": [
        {
          "output_type": "stream",
          "name": "stdout",
          "text": [
            "[1367373.911 1450142.05  1516447.967 1562365.774 1588991.908 1606609.007\n",
            " 1608658.005 1609692.   ]\n",
            "[1367373.911 1450142.05  1516447.967 1562365.774 1588991.908 1606609.007\n",
            " 1608658.005 1609692.   ]\n"
          ]
        }
      ]
    },
    {
      "cell_type": "code",
      "source": [
        "plt.figure(figsize=(8, 6))\n",
        "plt.plot(np.arange(n)+1,err_the,'r-')\n",
        "plt.plot(np.arange(n)+1,err_exp,'b--')\n",
        "plt.xlabel(\"singular values removed (k)\")\n",
        "plt.ylabel('$||g-\\hat{g}_{k}||^{2}$')\n",
        "plt.legend([\"Theoritical\", \"Experimental\"])\n",
        "plt.title(\"Reconstruction Errors\")\n",
        "plt.grid(True)\n",
        "plt.show()"
      ],
      "metadata": {
        "id": "eNhaW-onVRmf",
        "colab": {
          "base_uri": "https://localhost:8080/",
          "height": 404
        },
        "outputId": "48ebd551-6dd8-4c61-ebd1-037e2b26abc9"
      },
      "execution_count": 21,
      "outputs": [
        {
          "output_type": "display_data",
          "data": {
            "text/plain": [
              "<Figure size 576x432 with 1 Axes>"
            ],
            "image/png": "[encoded data removed]"
          },
          "metadata": {
            "needs_background": "light"
          }
        }
      ]
    },
    {
      "cell_type": "markdown",
      "source": [
        "##**Conclusion:**\n",
        "\n",
        "* DCT performs better than WHT in both energy packing and decorrelation.\n",
        "* Eigenvectors of $R$ are close to the DCT basis vectors but not exactly the same.\n",
        "* $\\beta^{2}R^{-1}$ is similar to tridiagonal structure $Q$ as $\\rho$ tends to 1.\n",
        "* DCT matrix exactly diagonalizes $Q_{\\alpha}$, a tridiagonal matrix with parameter $\\alpha$ and mostly diagonalizes $\\beta^{2}R^{-1}$ but not completely.\n",
        "* Computing the $SVD$ for an image and reconstructing it using all the singular values gives an exact reconstruction.\n",
        "\n",
        "* **Ensemble property:** The theoretical and calculated values for reconstruction errors on removing $k$ singular values is the sum of the squares of those $k$ singular \n",
        "$$\n",
        "||g-\\hat{g}_{k}||_{F}^{2} = \\Sigma_{i=1}^{k}\\sigma_{i}^{2}\n",
        "$$"
      ],
      "metadata": {
        "id": "285ziJwleYXD"
      }
    },
    {
      "cell_type": "markdown",
      "source": [
        "---"
      ],
      "metadata": {
        "id": "c9fM7CHomFWJ"
      }
    }
  ]
}